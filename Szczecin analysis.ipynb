{
 "cells": [
  {
   "cell_type": "code",
   "execution_count": 1,
   "metadata": {},
   "outputs": [],
   "source": [
    "import os, re, datetime, json\n",
    "import matplotlib.pyplot as plt\n",
    "import matplotlib.dates as mdates\n",
    "import pandas as pd\n",
    "import numpy as np\n",
    "\n",
    "%matplotlib inline\n",
    "plt.rcParams[\"figure.figsize\"] = (10,6)\n",
    "\n",
    "ddir  = r\"/home/mateusz/projects/szczecin_analysis/data/\""
   ]
  },
  {
   "cell_type": "code",
   "execution_count": 2,
   "metadata": {},
   "outputs": [],
   "source": [
    "files = os.listdir(ddir)\n",
    "# Filter files\n",
    "data = {\n",
    "    'file': [],\n",
    "    'date': [],\n",
    "    'lines':[]\n",
    "        }\n",
    "for f in files:\n",
    "    if not re.match(\"^szczecin_[0-9]+\\.jl\", f):\n",
    "        continue\n",
    "    data['file'].append(f)\n",
    "    date = datetime.datetime.strptime(f[9:15], \"%d%m%y\").date()\n",
    "    data['date'].append(date)\n",
    "    num_lines = sum(1 for line in open(os.path.join(ddir, f)))\n",
    "    data['lines'].append(num_lines)"
   ]
  },
  {
   "cell_type": "code",
   "execution_count": 3,
   "metadata": {},
   "outputs": [
    {
     "data": {
      "text/html": [
       "<div>\n",
       "<style scoped>\n",
       "    .dataframe tbody tr th:only-of-type {\n",
       "        vertical-align: middle;\n",
       "    }\n",
       "\n",
       "    .dataframe tbody tr th {\n",
       "        vertical-align: top;\n",
       "    }\n",
       "\n",
       "    .dataframe thead th {\n",
       "        text-align: right;\n",
       "    }\n",
       "</style>\n",
       "<table border=\"1\" class=\"dataframe\">\n",
       "  <thead>\n",
       "    <tr style=\"text-align: right;\">\n",
       "      <th></th>\n",
       "      <th>lines</th>\n",
       "    </tr>\n",
       "  </thead>\n",
       "  <tbody>\n",
       "    <tr>\n",
       "      <th>count</th>\n",
       "      <td>96.000000</td>\n",
       "    </tr>\n",
       "    <tr>\n",
       "      <th>mean</th>\n",
       "      <td>4312.854167</td>\n",
       "    </tr>\n",
       "    <tr>\n",
       "      <th>std</th>\n",
       "      <td>2498.183669</td>\n",
       "    </tr>\n",
       "    <tr>\n",
       "      <th>min</th>\n",
       "      <td>0.000000</td>\n",
       "    </tr>\n",
       "    <tr>\n",
       "      <th>25%</th>\n",
       "      <td>1626.250000</td>\n",
       "    </tr>\n",
       "    <tr>\n",
       "      <th>50%</th>\n",
       "      <td>4743.500000</td>\n",
       "    </tr>\n",
       "    <tr>\n",
       "      <th>75%</th>\n",
       "      <td>6723.250000</td>\n",
       "    </tr>\n",
       "    <tr>\n",
       "      <th>max</th>\n",
       "      <td>7675.000000</td>\n",
       "    </tr>\n",
       "  </tbody>\n",
       "</table>\n",
       "</div>"
      ],
      "text/plain": [
       "             lines\n",
       "count    96.000000\n",
       "mean   4312.854167\n",
       "std    2498.183669\n",
       "min       0.000000\n",
       "25%    1626.250000\n",
       "50%    4743.500000\n",
       "75%    6723.250000\n",
       "max    7675.000000"
      ]
     },
     "execution_count": 3,
     "metadata": {},
     "output_type": "execute_result"
    }
   ],
   "source": [
    "df = pd.DataFrame(data)\n",
    "df = df.sort_values(by='date')\n",
    "# df = df.set_index('date')\n",
    "df.describe()"
   ]
  },
  {
   "cell_type": "markdown",
   "metadata": {},
   "source": [
    "We see that there are observations with 0 lines, where for some reasons the data was not downloaded. We next get rid of observations with less than 500 lines."
   ]
  },
  {
   "cell_type": "code",
   "execution_count": 4,
   "metadata": {},
   "outputs": [
    {
     "data": {
      "text/html": [
       "<div>\n",
       "<style scoped>\n",
       "    .dataframe tbody tr th:only-of-type {\n",
       "        vertical-align: middle;\n",
       "    }\n",
       "\n",
       "    .dataframe tbody tr th {\n",
       "        vertical-align: top;\n",
       "    }\n",
       "\n",
       "    .dataframe thead th {\n",
       "        text-align: right;\n",
       "    }\n",
       "</style>\n",
       "<table border=\"1\" class=\"dataframe\">\n",
       "  <thead>\n",
       "    <tr style=\"text-align: right;\">\n",
       "      <th></th>\n",
       "      <th>lines</th>\n",
       "    </tr>\n",
       "  </thead>\n",
       "  <tbody>\n",
       "    <tr>\n",
       "      <th>count</th>\n",
       "      <td>85.000000</td>\n",
       "    </tr>\n",
       "    <tr>\n",
       "      <th>mean</th>\n",
       "      <td>4867.105882</td>\n",
       "    </tr>\n",
       "    <tr>\n",
       "      <th>std</th>\n",
       "      <td>2084.254309</td>\n",
       "    </tr>\n",
       "    <tr>\n",
       "      <th>min</th>\n",
       "      <td>1431.000000</td>\n",
       "    </tr>\n",
       "    <tr>\n",
       "      <th>25%</th>\n",
       "      <td>3593.000000</td>\n",
       "    </tr>\n",
       "    <tr>\n",
       "      <th>50%</th>\n",
       "      <td>4951.000000</td>\n",
       "    </tr>\n",
       "    <tr>\n",
       "      <th>75%</th>\n",
       "      <td>6755.000000</td>\n",
       "    </tr>\n",
       "    <tr>\n",
       "      <th>max</th>\n",
       "      <td>7675.000000</td>\n",
       "    </tr>\n",
       "  </tbody>\n",
       "</table>\n",
       "</div>"
      ],
      "text/plain": [
       "             lines\n",
       "count    85.000000\n",
       "mean   4867.105882\n",
       "std    2084.254309\n",
       "min    1431.000000\n",
       "25%    3593.000000\n",
       "50%    4951.000000\n",
       "75%    6755.000000\n",
       "max    7675.000000"
      ]
     },
     "execution_count": 4,
     "metadata": {},
     "output_type": "execute_result"
    }
   ],
   "source": [
    "df = df[df['lines'] > 500]\n",
    "df.describe()"
   ]
  },
  {
   "cell_type": "markdown",
   "metadata": {},
   "source": [
    "We can nesxt graph how the number of observations changed during time of the data gathering. "
   ]
  },
  {
   "cell_type": "code",
   "execution_count": 5,
   "metadata": {},
   "outputs": [
    {
     "data": {
      "image/png": "[encoded data removed]",
      "text/plain": [
       "<Figure size 720x432 with 1 Axes>"
      ]
     },
     "metadata": {},
     "output_type": "display_data"
    }
   ],
   "source": [
    "years = mdates.YearLocator()   # every year\n",
    "months = mdates.MonthLocator()  # every month\n",
    "yearsFmt = mdates.DateFormatter('%Y')\n",
    "\n",
    "fig, ax = plt.subplots()\n",
    "ax.plot(df['date'], df['lines'])\n",
    "ax.xaxis.set_major_locator(years)\n",
    "ax.xaxis.set_major_formatter(yearsFmt)\n",
    "ax.xaxis.set_minor_locator(months)\n",
    "ax.set_ylabel('Number of observations')\n",
    "ax.set_xlabel('Date')\n",
    "ax.grid(color='g', linestyle='--', linewidth=1, alpha=.3)\n",
    "ax.get_xaxis().tick_bottom()    \n",
    "ax.get_yaxis().tick_left()    \n",
    "ax.spines[\"top\"].set_visible(False)    \n",
    "#ax.spines[\"bottom\"].set_visible(False)    \n",
    "ax.spines[\"right\"].set_visible(False)    \n",
    "#ax.spines[\"left\"].set_visible(False)  "
   ]
  },
  {
   "cell_type": "markdown",
   "metadata": {},
   "source": [
    "We conclude that since the begining of the experiment the number of offers in the service has been droping substantially. The biggest drop has been recorded in the begining of 2018 when the number of offers dropped from 4000 to less than 2000. \n",
    "\n",
    "The questions remains if this situation is because there are less offers on the market or wether the service is loosing to some other opponent? Unfortunately given this dataset be cannot answer this questions."
   ]
  },
  {
   "cell_type": "markdown",
   "metadata": {
    "collapsed": true
   },
   "source": [
    "# Analyze data\n"
   ]
  },
  {
   "cell_type": "code",
   "execution_count": 6,
   "metadata": {},
   "outputs": [],
   "source": [
    "data = []\n",
    "for idx in df.index:\n",
    "    read_date = pd.read_json(os.path.join(ddir, df.loc[idx, 'file']), lines=True)\n",
    "    read_date['date'] = df.loc[idx, 'date']\n",
    "    data.append(read_date)\n",
    "    read_date = None\n",
    "\n",
    "data = pd.concat(data, axis=0)"
   ]
  },
  {
   "cell_type": "code",
   "execution_count": 7,
   "metadata": {},
   "outputs": [
    {
     "data": {
      "text/html": [
       "<div>\n",
       "<style scoped>\n",
       "    .dataframe tbody tr th:only-of-type {\n",
       "        vertical-align: middle;\n",
       "    }\n",
       "\n",
       "    .dataframe tbody tr th {\n",
       "        vertical-align: top;\n",
       "    }\n",
       "\n",
       "    .dataframe thead th {\n",
       "        text-align: right;\n",
       "    }\n",
       "</style>\n",
       "<table border=\"1\" class=\"dataframe\">\n",
       "  <thead>\n",
       "    <tr style=\"text-align: right;\">\n",
       "      <th></th>\n",
       "      <th>_type</th>\n",
       "      <th>data_lat</th>\n",
       "      <th>data_lon</th>\n",
       "      <th>description</th>\n",
       "      <th>details</th>\n",
       "      <th>floor</th>\n",
       "      <th>location</th>\n",
       "      <th>poi_lat</th>\n",
       "      <th>poi_lon</th>\n",
       "      <th>pow</th>\n",
       "      <th>price</th>\n",
       "      <th>rooms</th>\n",
       "      <th>sellType</th>\n",
       "      <th>town</th>\n",
       "      <th>url</th>\n",
       "      <th>date</th>\n",
       "    </tr>\n",
       "  </thead>\n",
       "  <tbody>\n",
       "    <tr>\n",
       "      <th>1604</th>\n",
       "      <td>HomespiderItem</td>\n",
       "      <td>53.413120</td>\n",
       "      <td>14.578210</td>\n",
       "      <td>[Mieszkanie, 82,60 m², Szczecin]</td>\n",
       "      <td>Polecam na sprzedaż 4 pokojowe mieszkanie o po...</td>\n",
       "      <td>3</td>\n",
       "      <td>Mieszkanie na sprzedaż, Szczecin, Śródmieście</td>\n",
       "      <td>53.4156</td>\n",
       "      <td>14.577</td>\n",
       "      <td>82.60</td>\n",
       "      <td>350000.0</td>\n",
       "      <td>4</td>\n",
       "      <td>Mieszkanie na sprzedaż</td>\n",
       "      <td>Szczecin</td>\n",
       "      <td>https://www.otodom.pl/oferta/mieszkanie-82-60-...</td>\n",
       "      <td>2018-06-23</td>\n",
       "    </tr>\n",
       "    <tr>\n",
       "      <th>1605</th>\n",
       "      <td>HomespiderItem</td>\n",
       "      <td>53.441479</td>\n",
       "      <td>14.538239</td>\n",
       "      <td>[Mieszkanie, 132 m², Szczecin]</td>\n",
       "      <td>OFERTA DLA INWESTORA!!! MIESZKANIE JEST WYNAJĘ...</td>\n",
       "      <td>2</td>\n",
       "      <td>Mieszkanie na sprzedaż, Szczecin, ks. Piotra S...</td>\n",
       "      <td>53.4418</td>\n",
       "      <td>14.5354</td>\n",
       "      <td>132.00</td>\n",
       "      <td>555000.0</td>\n",
       "      <td>5</td>\n",
       "      <td>Mieszkanie na sprzedaż</td>\n",
       "      <td>Szczecin</td>\n",
       "      <td>https://www.otodom.pl/oferta/mieszkanie-132-m-...</td>\n",
       "      <td>2018-06-23</td>\n",
       "    </tr>\n",
       "    <tr>\n",
       "      <th>1606</th>\n",
       "      <td>HomespiderItem</td>\n",
       "      <td>53.432408</td>\n",
       "      <td>14.536559</td>\n",
       "      <td>[Mieszkanie, 105 m², Szczecin]</td>\n",
       "      <td>Atrakcyjne mieszkanie (aktualnie wykorzystane ...</td>\n",
       "      <td>1</td>\n",
       "      <td>Mieszkanie na sprzedaż, Szczecin, Centrum, JAG...</td>\n",
       "      <td>53.4328</td>\n",
       "      <td>14.5343</td>\n",
       "      <td>105.00</td>\n",
       "      <td>460000.0</td>\n",
       "      <td>4</td>\n",
       "      <td>Mieszkanie na sprzedaż</td>\n",
       "      <td>Szczecin</td>\n",
       "      <td>https://www.otodom.pl/oferta/mieszkanie-105-m-...</td>\n",
       "      <td>2018-06-23</td>\n",
       "    </tr>\n",
       "    <tr>\n",
       "      <th>1607</th>\n",
       "      <td>HomespiderItem</td>\n",
       "      <td>53.413120</td>\n",
       "      <td>14.578210</td>\n",
       "      <td>[Mieszkanie, 132 m², Szczecin]</td>\n",
       "      <td>Piękne i przestronne mieszkanie o powierzchni ...</td>\n",
       "      <td>2</td>\n",
       "      <td>Mieszkanie na sprzedaż, Szczecin, Śródmieście</td>\n",
       "      <td>53.4156</td>\n",
       "      <td>14.577</td>\n",
       "      <td>132.00</td>\n",
       "      <td>525000.0</td>\n",
       "      <td>5</td>\n",
       "      <td>Mieszkanie na sprzedaż</td>\n",
       "      <td>Szczecin</td>\n",
       "      <td>https://www.otodom.pl/oferta/mieszkanie-132-m-...</td>\n",
       "      <td>2018-06-23</td>\n",
       "    </tr>\n",
       "    <tr>\n",
       "      <th>1608</th>\n",
       "      <td>HomespiderItem</td>\n",
       "      <td>53.481732</td>\n",
       "      <td>14.541711</td>\n",
       "      <td>[2 pokoje Apartamenty Warszewo - Szczecin]</td>\n",
       "      <td>Wyróżniająca się inwestycja realizowana w prze...</td>\n",
       "      <td>1</td>\n",
       "      <td>Mieszkanie na sprzedaż, Szczecin, Warszewo,  M...</td>\n",
       "      <td>53.4826</td>\n",
       "      <td>14.5453</td>\n",
       "      <td>42.61</td>\n",
       "      <td>249000.0</td>\n",
       "      <td>2</td>\n",
       "      <td>Mieszkanie na sprzedaż</td>\n",
       "      <td>Szczecin</td>\n",
       "      <td>https://www.otodom.pl/oferta/2-pokoje-apartame...</td>\n",
       "      <td>2018-06-23</td>\n",
       "    </tr>\n",
       "  </tbody>\n",
       "</table>\n",
       "</div>"
      ],
      "text/plain": [
       "               _type     ...            date\n",
       "1604  HomespiderItem     ...      2018-06-23\n",
       "1605  HomespiderItem     ...      2018-06-23\n",
       "1606  HomespiderItem     ...      2018-06-23\n",
       "1607  HomespiderItem     ...      2018-06-23\n",
       "1608  HomespiderItem     ...      2018-06-23\n",
       "\n",
       "[5 rows x 16 columns]"
      ]
     },
     "execution_count": 7,
     "metadata": {},
     "output_type": "execute_result"
    }
   ],
   "source": [
    "data.tail()"
   ]
  },
  {
   "cell_type": "markdown",
   "metadata": {},
   "source": [
    "We see that some columns as `_type`, `sellType`, `town` or `url` we won't be needing. The detils column includes the whole description of the offer. Let's see what's inside the data."
   ]
  },
  {
   "cell_type": "code",
   "execution_count": 8,
   "metadata": {},
   "outputs": [
    {
     "data": {
      "text/html": [
       "<div>\n",
       "<style scoped>\n",
       "    .dataframe tbody tr th:only-of-type {\n",
       "        vertical-align: middle;\n",
       "    }\n",
       "\n",
       "    .dataframe tbody tr th {\n",
       "        vertical-align: top;\n",
       "    }\n",
       "\n",
       "    .dataframe thead th {\n",
       "        text-align: right;\n",
       "    }\n",
       "</style>\n",
       "<table border=\"1\" class=\"dataframe\">\n",
       "  <thead>\n",
       "    <tr style=\"text-align: right;\">\n",
       "      <th></th>\n",
       "      <th>data_lat</th>\n",
       "      <th>data_lon</th>\n",
       "      <th>pow</th>\n",
       "      <th>price</th>\n",
       "    </tr>\n",
       "  </thead>\n",
       "  <tbody>\n",
       "    <tr>\n",
       "      <th>count</th>\n",
       "      <td>413704.000000</td>\n",
       "      <td>413704.000000</td>\n",
       "      <td>413704.000000</td>\n",
       "      <td>4.137040e+05</td>\n",
       "    </tr>\n",
       "    <tr>\n",
       "      <th>mean</th>\n",
       "      <td>53.196654</td>\n",
       "      <td>14.488744</td>\n",
       "      <td>68.401310</td>\n",
       "      <td>3.016699e+05</td>\n",
       "    </tr>\n",
       "    <tr>\n",
       "      <th>std</th>\n",
       "      <td>3.527650</td>\n",
       "      <td>0.976426</td>\n",
       "      <td>65.261838</td>\n",
       "      <td>1.308628e+05</td>\n",
       "    </tr>\n",
       "    <tr>\n",
       "      <th>min</th>\n",
       "      <td>0.000000</td>\n",
       "      <td>0.000000</td>\n",
       "      <td>11.000000</td>\n",
       "      <td>3.900000e+04</td>\n",
       "    </tr>\n",
       "    <tr>\n",
       "      <th>25%</th>\n",
       "      <td>53.420000</td>\n",
       "      <td>14.521824</td>\n",
       "      <td>47.740000</td>\n",
       "      <td>2.190000e+05</td>\n",
       "    </tr>\n",
       "    <tr>\n",
       "      <th>50%</th>\n",
       "      <td>53.432830</td>\n",
       "      <td>14.546396</td>\n",
       "      <td>62.000000</td>\n",
       "      <td>2.790000e+05</td>\n",
       "    </tr>\n",
       "    <tr>\n",
       "      <th>75%</th>\n",
       "      <td>53.445569</td>\n",
       "      <td>14.554006</td>\n",
       "      <td>82.000000</td>\n",
       "      <td>3.530000e+05</td>\n",
       "    </tr>\n",
       "    <tr>\n",
       "      <th>max</th>\n",
       "      <td>54.524587</td>\n",
       "      <td>53.221296</td>\n",
       "      <td>6330.000000</td>\n",
       "      <td>6.990000e+06</td>\n",
       "    </tr>\n",
       "  </tbody>\n",
       "</table>\n",
       "</div>"
      ],
      "text/plain": [
       "            data_lat       data_lon            pow         price\n",
       "count  413704.000000  413704.000000  413704.000000  4.137040e+05\n",
       "mean       53.196654      14.488744      68.401310  3.016699e+05\n",
       "std         3.527650       0.976426      65.261838  1.308628e+05\n",
       "min         0.000000       0.000000      11.000000  3.900000e+04\n",
       "25%        53.420000      14.521824      47.740000  2.190000e+05\n",
       "50%        53.432830      14.546396      62.000000  2.790000e+05\n",
       "75%        53.445569      14.554006      82.000000  3.530000e+05\n",
       "max        54.524587      53.221296    6330.000000  6.990000e+06"
      ]
     },
     "execution_count": 8,
     "metadata": {},
     "output_type": "execute_result"
    }
   ],
   "source": [
    "data['date'] = pd.to_datetime(data['date'])\n",
    "data = data.drop(columns=['_type', 'sellType', 'town', 'url'])\n",
    "data.describe()"
   ]
  },
  {
   "cell_type": "markdown",
   "metadata": {},
   "source": [
    "The average size of offered appartment was 68.4 m$^2$ and the average price was around 300k PLN.\n",
    "\n",
    "We see that geographical coordinates, area and price are numeric. Apparently the `floor` variable has some non-numeric values."
   ]
  },
  {
   "cell_type": "code",
   "execution_count": 9,
   "metadata": {},
   "outputs": [
    {
     "data": {
      "text/plain": [
       "1           89674\n",
       "4           78874\n",
       "2           74595\n",
       "parter      71983\n",
       "3           64151\n",
       "5            9602\n",
       "6            7014\n",
       "10           3671\n",
       "8            3333\n",
       "> 10         3258\n",
       "7            3164\n",
       "9            2437\n",
       "poddasze      510\n",
       "4             419\n",
       "2             252\n",
       "3             232\n",
       "1             178\n",
       "11            120\n",
       "5              92\n",
       "10             64\n",
       "8              27\n",
       "12             23\n",
       "6              17\n",
       "suterena        7\n",
       "28              6\n",
       "26              1\n",
       "Name: floor, dtype: int64"
      ]
     },
     "execution_count": 9,
     "metadata": {},
     "output_type": "execute_result"
    }
   ],
   "source": [
    "data['floor'].value_counts()"
   ]
  },
  {
   "cell_type": "markdown",
   "metadata": {},
   "source": [
    "We can see that the ground floor is described as the word `parter`. Also there are some appartments lower than ground floor `suterena`, but we will consider them as ground floor. We also add a category as giving the number of floors as 5 and more and 10 and more."
   ]
  },
  {
   "cell_type": "code",
   "execution_count": 10,
   "metadata": {},
   "outputs": [
    {
     "data": {
      "text/plain": [
       "1     89852\n",
       "4     79293\n",
       "2     74847\n",
       "0     71990\n",
       "3     64383\n",
       "5     10204\n",
       "10     7143\n",
       "6      7031\n",
       "8      3360\n",
       "7      3164\n",
       "9      2437\n",
       "Name: floor, dtype: int64"
      ]
     },
     "execution_count": 10,
     "metadata": {},
     "output_type": "execute_result"
    }
   ],
   "source": [
    "data.loc[data['floor'] == 'parter', 'floor'] = '0'\n",
    "data.loc[data['floor'] == 'suterena', 'floor'] = '0'\n",
    "data.loc[data['floor'] == 'poddasze', 'floor'] = '5'\n",
    "data.loc[data['floor'] == '> 10', 'floor'] = '11'\n",
    "\n",
    "data['floor'] = pd.to_numeric(data['floor'])\n",
    "data.loc[data['floor'] > 10, 'floor'] = 10\n",
    "\n",
    "data['floor'].value_counts()"
   ]
  },
  {
   "cell_type": "code",
   "execution_count": 11,
   "metadata": {},
   "outputs": [
    {
     "data": {
      "text/plain": [
       "3                137132\n",
       "2                132763\n",
       "4                 55673\n",
       "1                 25911\n",
       "3                 16997\n",
       "2                 15722\n",
       "5                 13671\n",
       "4                  7372\n",
       "1                  4063\n",
       "6                  2080\n",
       "5                  1595\n",
       "6                   289\n",
       "7                   233\n",
       "8                    76\n",
       "7                    70\n",
       "9                    32\n",
       "więcej niż 10        13\n",
       "8                    12\n",
       "Name: rooms, dtype: int64"
      ]
     },
     "execution_count": 11,
     "metadata": {},
     "output_type": "execute_result"
    }
   ],
   "source": [
    "data['rooms'].value_counts()"
   ]
  },
  {
   "cell_type": "code",
   "execution_count": 12,
   "metadata": {},
   "outputs": [
    {
     "data": {
      "text/plain": [
       "3     154129\n",
       "2     148485\n",
       "4      63045\n",
       "1      29974\n",
       "5      15266\n",
       "6       2369\n",
       "7        303\n",
       "8         88\n",
       "9         32\n",
       "10        13\n",
       "Name: rooms, dtype: int64"
      ]
     },
     "execution_count": 12,
     "metadata": {},
     "output_type": "execute_result"
    }
   ],
   "source": [
    "data.loc[data['rooms'] == 'więcej niż 10', 'rooms'] = '10'\n",
    "data['rooms'] = pd.to_numeric(data['rooms'])\n",
    "data['rooms'].value_counts()"
   ]
  },
  {
   "cell_type": "markdown",
   "metadata": {},
   "source": [
    "The floor and room numbers looks fine now. Next we can visualize our data. Also for visualization we will create a sample without duplicates.\n",
    "\n",
    "First we want to look how does the price depend on the area."
   ]
  },
  {
   "cell_type": "code",
   "execution_count": 13,
   "metadata": {},
   "outputs": [
    {
     "data": {
      "text/plain": [
       "<matplotlib.axes._subplots.AxesSubplot at 0x7f2647258f60>"
      ]
     },
     "execution_count": 13,
     "metadata": {},
     "output_type": "execute_result"
    },
    {
     "data": {
      "image/png": "[encoded data removed]",
      "text/plain": [
       "<Figure size 720x432 with 1 Axes>"
      ]
     },
     "metadata": {},
     "output_type": "display_data"
    }
   ],
   "source": [
    "duplicate_verify = ['details', 'location', 'pow', 'floor', 'rooms', 'data_lat', 'data_lon']\n",
    "sample = ~data.duplicated(duplicate_verify, keep='first')\n",
    "\n",
    "data[sample].plot.scatter('price', 'pow')"
   ]
  },
  {
   "cell_type": "markdown",
   "metadata": {},
   "source": [
    "We see that there are some outliers with area greater than 5000 m$^2$. Also We will consider everything priced more than 3M PLN as outliers."
   ]
  },
  {
   "cell_type": "code",
   "execution_count": 14,
   "metadata": {},
   "outputs": [
    {
     "data": {
      "text/plain": [
       "<matplotlib.axes._subplots.AxesSubplot at 0x7f264728f5c0>"
      ]
     },
     "execution_count": 14,
     "metadata": {},
     "output_type": "execute_result"
    },
    {
     "data": {
      "image/png": "[encoded data removed]",
      "text/plain": [
       "<Figure size 720x432 with 1 Axes>"
      ]
     },
     "metadata": {},
     "output_type": "display_data"
    }
   ],
   "source": [
    "data = data.loc[(data['pow'] < 5000) & (data['price'] < 3e6)]\n",
    "\n",
    "sample = ~data.duplicated(duplicate_verify, keep='first')\n",
    "\n",
    "data[sample].plot.scatter('pow', 'price',  alpha=0.1)"
   ]
  },
  {
   "cell_type": "markdown",
   "metadata": {},
   "source": [
    "There seems to be a lot of varaiance with increasing price. It's good to check the distribution of price and log price. We will once again plot, but with logs this time.\n",
    "\n",
    "We will also calcuate the log of area."
   ]
  },
  {
   "cell_type": "code",
   "execution_count": 15,
   "metadata": {},
   "outputs": [
    {
     "data": {
      "text/plain": [
       "Text(0.5,0,'Price, log PLN')"
      ]
     },
     "execution_count": 15,
     "metadata": {},
     "output_type": "execute_result"
    },
    {
     "data": {
      "image/png": "[encoded data removed]",
      "text/plain": [
       "<Figure size 720x432 with 2 Axes>"
      ]
     },
     "metadata": {},
     "output_type": "display_data"
    }
   ],
   "source": [
    "fig , ax= plt.subplots(ncols=2, nrows=1)\n",
    "data.loc[sample, 'price'].plot.hist(bins=100, ax=ax[0])\n",
    "ax[0].set_xlabel('Price, PLN')\n",
    "data.loc[sample, 'price'].plot.hist(bins=100, logx=True, ax=ax[1])\n",
    "ax[0].set_xlabel('Price, log PLN')"
   ]
  },
  {
   "cell_type": "code",
   "execution_count": 16,
   "metadata": {},
   "outputs": [
    {
     "data": {
      "text/plain": [
       "<matplotlib.axes._subplots.AxesSubplot at 0x7f2649a1b5f8>"
      ]
     },
     "execution_count": 16,
     "metadata": {},
     "output_type": "execute_result"
    },
    {
     "data": {
      "image/png": "[encoded data removed]",
      "text/plain": [
       "<Figure size 720x432 with 1 Axes>"
      ]
     },
     "metadata": {},
     "output_type": "display_data"
    }
   ],
   "source": [
    "data['lprice'] = np.log(data['price'])\n",
    "data['lpow'] = np.log(data['pow'])\n",
    "data[sample].plot.scatter('lpow', 'lprice',  alpha=0.1)"
   ]
  },
  {
   "cell_type": "markdown",
   "metadata": {},
   "source": [
    "Now let's see how the price, area and price per m$^2$ changed in time."
   ]
  },
  {
   "cell_type": "code",
   "execution_count": 17,
   "metadata": {},
   "outputs": [],
   "source": [
    "data['price_m'] = data['price'] / data['pow']\n",
    "\n",
    "summ_cols = ['date', 'price', 'pow', 'price_m']\n",
    "time_averages = data[summ_cols].groupby('date').aggregate(np.mean)"
   ]
  },
  {
   "cell_type": "code",
   "execution_count": 18,
   "metadata": {},
   "outputs": [
    {
     "data": {
      "image/png": "[encoded data removed]",
      "text/plain": [
       "<Figure size 720x432 with 3 Axes>"
      ]
     },
     "metadata": {},
     "output_type": "display_data"
    }
   ],
   "source": [
    "fig , ax= plt.subplots(ncols=1, nrows=3)\n",
    "time_averages.plot.line(y='price', ax=ax[0])\n",
    "time_averages.plot.line(y='pow', ax=ax[1])\n",
    "time_averages.plot.line(y='price_m', ax=ax[2])\n",
    "\n",
    "for axis in [0, 1, 2]:\n",
    "    ax[axis].xaxis.set_major_locator(years)\n",
    "    ax[axis].xaxis.set_major_formatter(yearsFmt)\n",
    "    ax[axis].xaxis.set_minor_locator(months)\n",
    "    ax[axis].grid(color='g', linestyle='--', linewidth=1, alpha=.3)\n",
    "    ax[axis].get_xaxis().tick_bottom()    \n",
    "    ax[axis].get_yaxis().tick_left()    \n",
    "    ax[axis].spines[\"top\"].set_visible(False)    \n",
    "    #ax[axis].spines[\"bottom\"].set_visible(False)    \n",
    "    ax[axis].spines[\"right\"].set_visible(False)    \n",
    "    #ax[axis].spines[\"left\"].set_visible(False)   \n",
    "    if axis < 2:\n",
    "        ax[axis].set_xticklabels([])\n",
    "        ax[axis].set_xlabel(\"\")\n",
    "    else:\n",
    "        ax[axis].set_xlabel('Date')"
   ]
  },
  {
   "cell_type": "code",
   "execution_count": 19,
   "metadata": {},
   "outputs": [
    {
     "data": {
      "text/html": [
       "<div>\n",
       "<style scoped>\n",
       "    .dataframe tbody tr th:only-of-type {\n",
       "        vertical-align: middle;\n",
       "    }\n",
       "\n",
       "    .dataframe tbody tr th {\n",
       "        vertical-align: top;\n",
       "    }\n",
       "\n",
       "    .dataframe thead th {\n",
       "        text-align: right;\n",
       "    }\n",
       "</style>\n",
       "<table border=\"1\" class=\"dataframe\">\n",
       "  <thead>\n",
       "    <tr style=\"text-align: right;\">\n",
       "      <th></th>\n",
       "      <th>price</th>\n",
       "      <th>pow</th>\n",
       "      <th>price_m</th>\n",
       "    </tr>\n",
       "    <tr>\n",
       "      <th>date</th>\n",
       "      <th></th>\n",
       "      <th></th>\n",
       "      <th></th>\n",
       "    </tr>\n",
       "  </thead>\n",
       "  <tbody>\n",
       "    <tr>\n",
       "      <th>2018-05-26</th>\n",
       "      <td>331198.355851</td>\n",
       "      <td>66.996952</td>\n",
       "      <td>5120.528661</td>\n",
       "    </tr>\n",
       "    <tr>\n",
       "      <th>2018-06-02</th>\n",
       "      <td>332626.154605</td>\n",
       "      <td>66.974287</td>\n",
       "      <td>5134.696668</td>\n",
       "    </tr>\n",
       "    <tr>\n",
       "      <th>2018-06-09</th>\n",
       "      <td>334994.679686</td>\n",
       "      <td>67.655043</td>\n",
       "      <td>5136.716990</td>\n",
       "    </tr>\n",
       "    <tr>\n",
       "      <th>2018-06-16</th>\n",
       "      <td>337102.781377</td>\n",
       "      <td>68.329473</td>\n",
       "      <td>5128.648129</td>\n",
       "    </tr>\n",
       "    <tr>\n",
       "      <th>2018-06-23</th>\n",
       "      <td>333983.030733</td>\n",
       "      <td>67.655736</td>\n",
       "      <td>5153.752442</td>\n",
       "    </tr>\n",
       "  </tbody>\n",
       "</table>\n",
       "</div>"
      ],
      "text/plain": [
       "                    price        pow      price_m\n",
       "date                                             \n",
       "2018-05-26  331198.355851  66.996952  5120.528661\n",
       "2018-06-02  332626.154605  66.974287  5134.696668\n",
       "2018-06-09  334994.679686  67.655043  5136.716990\n",
       "2018-06-16  337102.781377  68.329473  5128.648129\n",
       "2018-06-23  333983.030733  67.655736  5153.752442"
      ]
     },
     "execution_count": 19,
     "metadata": {},
     "output_type": "execute_result"
    }
   ],
   "source": [
    "time_averages.tail()"
   ]
  },
  {
   "cell_type": "markdown",
   "metadata": {},
   "source": [
    "We see that the average area does not change much. What we see is that the price rises continously over the analyzed period. \n",
    "\n",
    "We also look at how long an advertisment is on average avaliable."
   ]
  },
  {
   "cell_type": "code",
   "execution_count": 20,
   "metadata": {},
   "outputs": [
    {
     "name": "stdout",
     "output_type": "stream",
     "text": [
      "count                      44656\n",
      "mean     62 days 12:11:11.372268\n",
      "std      86 days 21:44:14.053819\n",
      "min              0 days 00:00:00\n",
      "25%             13 days 00:00:00\n",
      "50%             22 days 00:00:00\n",
      "75%             80 days 00:00:00\n",
      "max            600 days 00:00:00\n",
      "Name: date, dtype: object\n"
     ]
    },
    {
     "data": {
      "text/plain": [
       "<matplotlib.axes._subplots.AxesSubplot at 0x7f264b811ef0>"
      ]
     },
     "execution_count": 20,
     "metadata": {},
     "output_type": "execute_result"
    },
    {
     "data": {
      "image/png": "[encoded data removed]",
      "text/plain": [
       "<Figure size 720x432 with 1 Axes>"
      ]
     },
     "metadata": {},
     "output_type": "display_data"
    }
   ],
   "source": [
    "data['group'] = data.groupby(duplicate_verify).grouper.group_info[0]\n",
    "gr = data.groupby('group')\n",
    "gr_dur = gr['date'].max() - gr['date'].min()\n",
    "print(gr_dur.describe())\n",
    "gr_dur.dt.days.hist(bins=60)"
   ]
  },
  {
   "cell_type": "markdown",
   "metadata": {},
   "source": [
    "We see that on average an ad is alive for 62 days. The median time recorded is 22 days, around 3 weeks. Unfortunately our data aquisition technique is on 7 day basis, so these results are likely biased. There are also many advertisments with survival time == 0 indicating that before the second run they are already gone."
   ]
  },
  {
   "cell_type": "markdown",
   "metadata": {},
   "source": [
    "## Linear regression analysis\n",
    "\n",
    "Having cleaned our data we can next analyze according to different criteria like area, number of rooms and which floor is the appartment on. For that we will be using `statsmodels` package.\n",
    "\n",
    "Also we want only to use first occurences for our observations."
   ]
  },
  {
   "cell_type": "code",
   "execution_count": 21,
   "metadata": {},
   "outputs": [],
   "source": [
    "import statsmodels.api as sm"
   ]
  },
  {
   "cell_type": "code",
   "execution_count": 22,
   "metadata": {},
   "outputs": [
    {
     "data": {
      "text/html": [
       "<table class=\"simpletable\">\n",
       "<caption>OLS Regression Results</caption>\n",
       "<tr>\n",
       "  <th>Dep. Variable:</th>          <td>price</td>      <th>  R-squared:         </th>  <td>   0.569</td>  \n",
       "</tr>\n",
       "<tr>\n",
       "  <th>Model:</th>                   <td>OLS</td>       <th>  Adj. R-squared:    </th>  <td>   0.569</td>  \n",
       "</tr>\n",
       "<tr>\n",
       "  <th>Method:</th>             <td>Least Squares</td>  <th>  F-statistic:       </th>  <td>5.906e+04</td> \n",
       "</tr>\n",
       "<tr>\n",
       "  <th>Date:</th>             <td>Sun, 22 Jul 2018</td> <th>  Prob (F-statistic):</th>   <td>  0.00</td>   \n",
       "</tr>\n",
       "<tr>\n",
       "  <th>Time:</th>                 <td>19:38:06</td>     <th>  Log-Likelihood:    </th> <td>-5.6685e+05</td>\n",
       "</tr>\n",
       "<tr>\n",
       "  <th>No. Observations:</th>      <td> 44656</td>      <th>  AIC:               </th>  <td>1.134e+06</td> \n",
       "</tr>\n",
       "<tr>\n",
       "  <th>Df Residuals:</th>          <td> 44654</td>      <th>  BIC:               </th>  <td>1.134e+06</td> \n",
       "</tr>\n",
       "<tr>\n",
       "  <th>Df Model:</th>              <td>     1</td>      <th>                     </th>      <td> </td>     \n",
       "</tr>\n",
       "<tr>\n",
       "  <th>Covariance Type:</th>      <td>nonrobust</td>    <th>                     </th>      <td> </td>     \n",
       "</tr>\n",
       "</table>\n",
       "<table class=\"simpletable\">\n",
       "<tr>\n",
       "      <td></td>         <th>coef</th>     <th>std err</th>      <th>t</th>      <th>P>|t|</th>  <th>[0.025</th>    <th>0.975]</th>  \n",
       "</tr>\n",
       "<tr>\n",
       "  <th>Intercept</th> <td>  7.12e+04</td> <td>  954.281</td> <td>   74.612</td> <td> 0.000</td> <td> 6.93e+04</td> <td> 7.31e+04</td>\n",
       "</tr>\n",
       "<tr>\n",
       "  <th>pow</th>       <td> 3378.0062</td> <td>   13.901</td> <td>  243.013</td> <td> 0.000</td> <td> 3350.761</td> <td> 3405.251</td>\n",
       "</tr>\n",
       "</table>\n",
       "<table class=\"simpletable\">\n",
       "<tr>\n",
       "  <th>Omnibus:</th>       <td>37210.605</td> <th>  Durbin-Watson:     </th>  <td>   1.819</td>  \n",
       "</tr>\n",
       "<tr>\n",
       "  <th>Prob(Omnibus):</th>  <td> 0.000</td>   <th>  Jarque-Bera (JB):  </th> <td>7385583.506</td>\n",
       "</tr>\n",
       "<tr>\n",
       "  <th>Skew:</th>           <td> 3.227</td>   <th>  Prob(JB):          </th>  <td>    0.00</td>  \n",
       "</tr>\n",
       "<tr>\n",
       "  <th>Kurtosis:</th>       <td>65.671</td>   <th>  Cond. No.          </th>  <td>    176.</td>  \n",
       "</tr>\n",
       "</table><br/><br/>Warnings:<br/>[1] Standard Errors assume that the covariance matrix of the errors is correctly specified."
      ],
      "text/plain": [
       "<class 'statsmodels.iolib.summary.Summary'>\n",
       "\"\"\"\n",
       "                            OLS Regression Results                            \n",
       "==============================================================================\n",
       "Dep. Variable:                  price   R-squared:                       0.569\n",
       "Model:                            OLS   Adj. R-squared:                  0.569\n",
       "Method:                 Least Squares   F-statistic:                 5.906e+04\n",
       "Date:                Sun, 22 Jul 2018   Prob (F-statistic):               0.00\n",
       "Time:                        19:38:06   Log-Likelihood:            -5.6685e+05\n",
       "No. Observations:               44656   AIC:                         1.134e+06\n",
       "Df Residuals:                   44654   BIC:                         1.134e+06\n",
       "Df Model:                           1                                         \n",
       "Covariance Type:            nonrobust                                         \n",
       "==============================================================================\n",
       "                 coef    std err          t      P>|t|      [0.025      0.975]\n",
       "------------------------------------------------------------------------------\n",
       "Intercept    7.12e+04    954.281     74.612      0.000    6.93e+04    7.31e+04\n",
       "pow         3378.0062     13.901    243.013      0.000    3350.761    3405.251\n",
       "==============================================================================\n",
       "Omnibus:                    37210.605   Durbin-Watson:                   1.819\n",
       "Prob(Omnibus):                  0.000   Jarque-Bera (JB):          7385583.506\n",
       "Skew:                           3.227   Prob(JB):                         0.00\n",
       "Kurtosis:                      65.671   Cond. No.                         176.\n",
       "==============================================================================\n",
       "\n",
       "Warnings:\n",
       "[1] Standard Errors assume that the covariance matrix of the errors is correctly specified.\n",
       "\"\"\""
      ]
     },
     "execution_count": 22,
     "metadata": {},
     "output_type": "execute_result"
    }
   ],
   "source": [
    "sample = ~data.duplicated(duplicate_verify, keep='first')\n",
    "\n",
    "formula = \"price ~ pow\"\n",
    "m0 = sm.OLS.from_formula(formula, data=data[sample]).fit()\n",
    "m0.summary()"
   ]
  },
  {
   "cell_type": "markdown",
   "metadata": {},
   "source": [
    "From this initial regressions results we see that increasing area by 1 m$^2$ increases the price by 3400 PLN. Let's see how this changes when we add floor number and number of rooms. \n",
    "\n",
    "We also add localization and length of description."
   ]
  },
  {
   "cell_type": "code",
   "execution_count": 23,
   "metadata": {},
   "outputs": [
    {
     "data": {
      "text/html": [
       "<table class=\"simpletable\">\n",
       "<caption>OLS Regression Results</caption>\n",
       "<tr>\n",
       "  <th>Dep. Variable:</th>          <td>price</td>      <th>  R-squared:         </th>  <td>   0.581</td>  \n",
       "</tr>\n",
       "<tr>\n",
       "  <th>Model:</th>                   <td>OLS</td>       <th>  Adj. R-squared:    </th>  <td>   0.581</td>  \n",
       "</tr>\n",
       "<tr>\n",
       "  <th>Method:</th>             <td>Least Squares</td>  <th>  F-statistic:       </th>  <td>   8836.</td>  \n",
       "</tr>\n",
       "<tr>\n",
       "  <th>Date:</th>             <td>Sun, 22 Jul 2018</td> <th>  Prob (F-statistic):</th>   <td>  0.00</td>   \n",
       "</tr>\n",
       "<tr>\n",
       "  <th>Time:</th>                 <td>19:38:06</td>     <th>  Log-Likelihood:    </th> <td>-5.6626e+05</td>\n",
       "</tr>\n",
       "<tr>\n",
       "  <th>No. Observations:</th>      <td> 44656</td>      <th>  AIC:               </th>  <td>1.133e+06</td> \n",
       "</tr>\n",
       "<tr>\n",
       "  <th>Df Residuals:</th>          <td> 44648</td>      <th>  BIC:               </th>  <td>1.133e+06</td> \n",
       "</tr>\n",
       "<tr>\n",
       "  <th>Df Model:</th>              <td>     7</td>      <th>                     </th>      <td> </td>     \n",
       "</tr>\n",
       "<tr>\n",
       "  <th>Covariance Type:</th>      <td>nonrobust</td>    <th>                     </th>      <td> </td>     \n",
       "</tr>\n",
       "</table>\n",
       "<table class=\"simpletable\">\n",
       "<tr>\n",
       "          <td></td>             <th>coef</th>     <th>std err</th>      <th>t</th>      <th>P>|t|</th>  <th>[0.025</th>    <th>0.975]</th>  \n",
       "</tr>\n",
       "<tr>\n",
       "  <th>Intercept</th>         <td> 8.156e+04</td> <td> 4677.697</td> <td>   17.437</td> <td> 0.000</td> <td> 7.24e+04</td> <td> 9.07e+04</td>\n",
       "</tr>\n",
       "<tr>\n",
       "  <th>pow</th>               <td> 2992.2052</td> <td>   22.679</td> <td>  131.937</td> <td> 0.000</td> <td> 2947.754</td> <td> 3036.657</td>\n",
       "</tr>\n",
       "<tr>\n",
       "  <th>floor</th>             <td>-2087.4060</td> <td>  174.733</td> <td>  -11.946</td> <td> 0.000</td> <td>-2429.885</td> <td>-1744.927</td>\n",
       "</tr>\n",
       "<tr>\n",
       "  <th>rooms</th>             <td> 1.277e+04</td> <td>  638.326</td> <td>   19.999</td> <td> 0.000</td> <td> 1.15e+04</td> <td>  1.4e+04</td>\n",
       "</tr>\n",
       "<tr>\n",
       "  <th>data_lat</th>          <td> 8388.3258</td> <td>  885.030</td> <td>    9.478</td> <td> 0.000</td> <td> 6653.653</td> <td> 1.01e+04</td>\n",
       "</tr>\n",
       "<tr>\n",
       "  <th>data_lon</th>          <td> 4.322e+04</td> <td> 5887.291</td> <td>    7.341</td> <td> 0.000</td> <td> 3.17e+04</td> <td> 5.48e+04</td>\n",
       "</tr>\n",
       "<tr>\n",
       "  <th>data_lat:data_lon</th> <td>-1418.0212</td> <td>  161.247</td> <td>   -8.794</td> <td> 0.000</td> <td>-1734.067</td> <td>-1101.975</td>\n",
       "</tr>\n",
       "<tr>\n",
       "  <th>desc_len</th>          <td>    9.5913</td> <td>    0.430</td> <td>   22.314</td> <td> 0.000</td> <td>    8.749</td> <td>   10.434</td>\n",
       "</tr>\n",
       "</table>\n",
       "<table class=\"simpletable\">\n",
       "<tr>\n",
       "  <th>Omnibus:</th>       <td>40183.422</td> <th>  Durbin-Watson:     </th>  <td>   1.828</td>  \n",
       "</tr>\n",
       "<tr>\n",
       "  <th>Prob(Omnibus):</th>  <td> 0.000</td>   <th>  Jarque-Bera (JB):  </th> <td>8630525.874</td>\n",
       "</tr>\n",
       "<tr>\n",
       "  <th>Skew:</th>           <td> 3.671</td>   <th>  Prob(JB):          </th>  <td>    0.00</td>  \n",
       "</tr>\n",
       "<tr>\n",
       "  <th>Kurtosis:</th>       <td>70.709</td>   <th>  Cond. No.          </th>  <td>2.50e+04</td>  \n",
       "</tr>\n",
       "</table><br/><br/>Warnings:<br/>[1] Standard Errors assume that the covariance matrix of the errors is correctly specified.<br/>[2] The condition number is large, 2.5e+04. This might indicate that there are<br/>strong multicollinearity or other numerical problems."
      ],
      "text/plain": [
       "<class 'statsmodels.iolib.summary.Summary'>\n",
       "\"\"\"\n",
       "                            OLS Regression Results                            \n",
       "==============================================================================\n",
       "Dep. Variable:                  price   R-squared:                       0.581\n",
       "Model:                            OLS   Adj. R-squared:                  0.581\n",
       "Method:                 Least Squares   F-statistic:                     8836.\n",
       "Date:                Sun, 22 Jul 2018   Prob (F-statistic):               0.00\n",
       "Time:                        19:38:06   Log-Likelihood:            -5.6626e+05\n",
       "No. Observations:               44656   AIC:                         1.133e+06\n",
       "Df Residuals:                   44648   BIC:                         1.133e+06\n",
       "Df Model:                           7                                         \n",
       "Covariance Type:            nonrobust                                         \n",
       "=====================================================================================\n",
       "                        coef    std err          t      P>|t|      [0.025      0.975]\n",
       "-------------------------------------------------------------------------------------\n",
       "Intercept          8.156e+04   4677.697     17.437      0.000    7.24e+04    9.07e+04\n",
       "pow                2992.2052     22.679    131.937      0.000    2947.754    3036.657\n",
       "floor             -2087.4060    174.733    -11.946      0.000   -2429.885   -1744.927\n",
       "rooms              1.277e+04    638.326     19.999      0.000    1.15e+04     1.4e+04\n",
       "data_lat           8388.3258    885.030      9.478      0.000    6653.653    1.01e+04\n",
       "data_lon           4.322e+04   5887.291      7.341      0.000    3.17e+04    5.48e+04\n",
       "data_lat:data_lon -1418.0212    161.247     -8.794      0.000   -1734.067   -1101.975\n",
       "desc_len              9.5913      0.430     22.314      0.000       8.749      10.434\n",
       "==============================================================================\n",
       "Omnibus:                    40183.422   Durbin-Watson:                   1.828\n",
       "Prob(Omnibus):                  0.000   Jarque-Bera (JB):          8630525.874\n",
       "Skew:                           3.671   Prob(JB):                         0.00\n",
       "Kurtosis:                      70.709   Cond. No.                     2.50e+04\n",
       "==============================================================================\n",
       "\n",
       "Warnings:\n",
       "[1] Standard Errors assume that the covariance matrix of the errors is correctly specified.\n",
       "[2] The condition number is large, 2.5e+04. This might indicate that there are\n",
       "strong multicollinearity or other numerical problems.\n",
       "\"\"\""
      ]
     },
     "execution_count": 23,
     "metadata": {},
     "output_type": "execute_result"
    }
   ],
   "source": [
    "data['desc_len'] = data['details'].apply(len)\n",
    "\n",
    "formula = \"price ~ pow + floor + rooms + data_lat + data_lon + data_lat * data_lon + desc_len\"\n",
    "m1 = sm.OLS.from_formula(formula, data=data[sample]).fit()\n",
    "m1.summary()"
   ]
  },
  {
   "cell_type": "markdown",
   "metadata": {},
   "source": [
    "So each subsequent room adds 13k PLN to the price. Also each floor causes price to fall by 2.1k PLN. Also the longer the description the higher the price. Each letter \"costs\" around 10 PLN ;)\n",
    "\n",
    "Let's see what happens after adding quarterly price interaction."
   ]
  },
  {
   "cell_type": "code",
   "execution_count": 24,
   "metadata": {},
   "outputs": [
    {
     "data": {
      "text/html": [
       "<table class=\"simpletable\">\n",
       "<caption>OLS Regression Results</caption>\n",
       "<tr>\n",
       "  <th>Dep. Variable:</th>          <td>price</td>      <th>  R-squared:         </th>  <td>   0.590</td>  \n",
       "</tr>\n",
       "<tr>\n",
       "  <th>Model:</th>                   <td>OLS</td>       <th>  Adj. R-squared:    </th>  <td>   0.590</td>  \n",
       "</tr>\n",
       "<tr>\n",
       "  <th>Method:</th>             <td>Least Squares</td>  <th>  F-statistic:       </th>  <td>   3383.</td>  \n",
       "</tr>\n",
       "<tr>\n",
       "  <th>Date:</th>             <td>Sun, 22 Jul 2018</td> <th>  Prob (F-statistic):</th>   <td>  0.00</td>   \n",
       "</tr>\n",
       "<tr>\n",
       "  <th>Time:</th>                 <td>19:38:07</td>     <th>  Log-Likelihood:    </th> <td>-5.6575e+05</td>\n",
       "</tr>\n",
       "<tr>\n",
       "  <th>No. Observations:</th>      <td> 44656</td>      <th>  AIC:               </th>  <td>1.132e+06</td> \n",
       "</tr>\n",
       "<tr>\n",
       "  <th>Df Residuals:</th>          <td> 44636</td>      <th>  BIC:               </th>  <td>1.132e+06</td> \n",
       "</tr>\n",
       "<tr>\n",
       "  <th>Df Model:</th>              <td>    19</td>      <th>                     </th>      <td> </td>     \n",
       "</tr>\n",
       "<tr>\n",
       "  <th>Covariance Type:</th>      <td>nonrobust</td>    <th>                     </th>      <td> </td>     \n",
       "</tr>\n",
       "</table>\n",
       "<table class=\"simpletable\">\n",
       "<tr>\n",
       "              <td></td>                <th>coef</th>     <th>std err</th>      <th>t</th>      <th>P>|t|</th>  <th>[0.025</th>    <th>0.975]</th>  \n",
       "</tr>\n",
       "<tr>\n",
       "  <th>Intercept</th>                <td> 8.278e+04</td> <td> 4726.956</td> <td>   17.512</td> <td> 0.000</td> <td> 7.35e+04</td> <td>  9.2e+04</td>\n",
       "</tr>\n",
       "<tr>\n",
       "  <th>C(quarter)[T.2017Q1]</th>     <td> -1.08e+04</td> <td> 2929.445</td> <td>   -3.688</td> <td> 0.000</td> <td>-1.65e+04</td> <td>-5062.385</td>\n",
       "</tr>\n",
       "<tr>\n",
       "  <th>C(quarter)[T.2017Q2]</th>     <td> 1.521e+04</td> <td> 3040.620</td> <td>    5.002</td> <td> 0.000</td> <td> 9249.906</td> <td> 2.12e+04</td>\n",
       "</tr>\n",
       "<tr>\n",
       "  <th>C(quarter)[T.2017Q3]</th>     <td> 1.543e+04</td> <td> 3435.341</td> <td>    4.490</td> <td> 0.000</td> <td> 8692.385</td> <td> 2.22e+04</td>\n",
       "</tr>\n",
       "<tr>\n",
       "  <th>C(quarter)[T.2017Q4]</th>     <td> 1.951e+04</td> <td> 3349.957</td> <td>    5.823</td> <td> 0.000</td> <td> 1.29e+04</td> <td> 2.61e+04</td>\n",
       "</tr>\n",
       "<tr>\n",
       "  <th>C(quarter)[T.2018Q1]</th>     <td>  1.92e+04</td> <td> 3747.770</td> <td>    5.124</td> <td> 0.000</td> <td> 1.19e+04</td> <td> 2.65e+04</td>\n",
       "</tr>\n",
       "<tr>\n",
       "  <th>C(quarter)[T.2018Q2]</th>     <td> 5938.5243</td> <td> 4241.107</td> <td>    1.400</td> <td> 0.161</td> <td>-2374.117</td> <td> 1.43e+04</td>\n",
       "</tr>\n",
       "<tr>\n",
       "  <th>pow</th>                      <td> 2999.0512</td> <td>   26.167</td> <td>  114.613</td> <td> 0.000</td> <td> 2947.764</td> <td> 3050.338</td>\n",
       "</tr>\n",
       "<tr>\n",
       "  <th>C(quarter)[T.2017Q1]:pow</th> <td>  140.1319</td> <td>   42.391</td> <td>    3.306</td> <td> 0.001</td> <td>   57.045</td> <td>  223.219</td>\n",
       "</tr>\n",
       "<tr>\n",
       "  <th>C(quarter)[T.2017Q2]:pow</th> <td> -229.6394</td> <td>   45.950</td> <td>   -4.998</td> <td> 0.000</td> <td> -319.702</td> <td> -139.577</td>\n",
       "</tr>\n",
       "<tr>\n",
       "  <th>C(quarter)[T.2017Q3]:pow</th> <td> -122.5007</td> <td>   52.071</td> <td>   -2.353</td> <td> 0.019</td> <td> -224.560</td> <td>  -20.441</td>\n",
       "</tr>\n",
       "<tr>\n",
       "  <th>C(quarter)[T.2017Q4]:pow</th> <td>   -7.6041</td> <td>   50.029</td> <td>   -0.152</td> <td> 0.879</td> <td> -105.661</td> <td>   90.453</td>\n",
       "</tr>\n",
       "<tr>\n",
       "  <th>C(quarter)[T.2018Q1]:pow</th> <td>  113.3219</td> <td>   56.056</td> <td>    2.022</td> <td> 0.043</td> <td>    3.452</td> <td>  223.192</td>\n",
       "</tr>\n",
       "<tr>\n",
       "  <th>C(quarter)[T.2018Q2]:pow</th> <td>  481.7433</td> <td>   62.716</td> <td>    7.681</td> <td> 0.000</td> <td>  358.820</td> <td>  604.667</td>\n",
       "</tr>\n",
       "<tr>\n",
       "  <th>floor</th>                    <td>-2091.4323</td> <td>  172.887</td> <td>  -12.097</td> <td> 0.000</td> <td>-2430.293</td> <td>-1752.571</td>\n",
       "</tr>\n",
       "<tr>\n",
       "  <th>rooms</th>                    <td> 1.279e+04</td> <td>  634.394</td> <td>   20.167</td> <td> 0.000</td> <td> 1.16e+04</td> <td>  1.4e+04</td>\n",
       "</tr>\n",
       "<tr>\n",
       "  <th>data_lat</th>                 <td> 8184.5918</td> <td>  875.291</td> <td>    9.351</td> <td> 0.000</td> <td> 6469.007</td> <td> 9900.176</td>\n",
       "</tr>\n",
       "<tr>\n",
       "  <th>data_lon</th>                 <td>  4.32e+04</td> <td> 5822.178</td> <td>    7.419</td> <td> 0.000</td> <td> 3.18e+04</td> <td> 5.46e+04</td>\n",
       "</tr>\n",
       "<tr>\n",
       "  <th>data_lat:data_lon</th>        <td>-1411.4768</td> <td>  159.469</td> <td>   -8.851</td> <td> 0.000</td> <td>-1724.039</td> <td>-1098.915</td>\n",
       "</tr>\n",
       "<tr>\n",
       "  <th>desc_len</th>                 <td>    7.5511</td> <td>    0.461</td> <td>   16.390</td> <td> 0.000</td> <td>    6.648</td> <td>    8.454</td>\n",
       "</tr>\n",
       "</table>\n",
       "<table class=\"simpletable\">\n",
       "<tr>\n",
       "  <th>Omnibus:</th>       <td>40046.137</td> <th>  Durbin-Watson:     </th>  <td>   1.867</td>  \n",
       "</tr>\n",
       "<tr>\n",
       "  <th>Prob(Omnibus):</th>  <td> 0.000</td>   <th>  Jarque-Bera (JB):  </th> <td>8683522.715</td>\n",
       "</tr>\n",
       "<tr>\n",
       "  <th>Skew:</th>           <td> 3.646</td>   <th>  Prob(JB):          </th>  <td>    0.00</td>  \n",
       "</tr>\n",
       "<tr>\n",
       "  <th>Kurtosis:</th>       <td>70.924</td>   <th>  Cond. No.          </th>  <td>2.50e+04</td>  \n",
       "</tr>\n",
       "</table><br/><br/>Warnings:<br/>[1] Standard Errors assume that the covariance matrix of the errors is correctly specified.<br/>[2] The condition number is large, 2.5e+04. This might indicate that there are<br/>strong multicollinearity or other numerical problems."
      ],
      "text/plain": [
       "<class 'statsmodels.iolib.summary.Summary'>\n",
       "\"\"\"\n",
       "                            OLS Regression Results                            \n",
       "==============================================================================\n",
       "Dep. Variable:                  price   R-squared:                       0.590\n",
       "Model:                            OLS   Adj. R-squared:                  0.590\n",
       "Method:                 Least Squares   F-statistic:                     3383.\n",
       "Date:                Sun, 22 Jul 2018   Prob (F-statistic):               0.00\n",
       "Time:                        19:38:07   Log-Likelihood:            -5.6575e+05\n",
       "No. Observations:               44656   AIC:                         1.132e+06\n",
       "Df Residuals:                   44636   BIC:                         1.132e+06\n",
       "Df Model:                          19                                         \n",
       "Covariance Type:            nonrobust                                         \n",
       "============================================================================================\n",
       "                               coef    std err          t      P>|t|      [0.025      0.975]\n",
       "--------------------------------------------------------------------------------------------\n",
       "Intercept                 8.278e+04   4726.956     17.512      0.000    7.35e+04     9.2e+04\n",
       "C(quarter)[T.2017Q1]      -1.08e+04   2929.445     -3.688      0.000   -1.65e+04   -5062.385\n",
       "C(quarter)[T.2017Q2]      1.521e+04   3040.620      5.002      0.000    9249.906    2.12e+04\n",
       "C(quarter)[T.2017Q3]      1.543e+04   3435.341      4.490      0.000    8692.385    2.22e+04\n",
       "C(quarter)[T.2017Q4]      1.951e+04   3349.957      5.823      0.000    1.29e+04    2.61e+04\n",
       "C(quarter)[T.2018Q1]       1.92e+04   3747.770      5.124      0.000    1.19e+04    2.65e+04\n",
       "C(quarter)[T.2018Q2]      5938.5243   4241.107      1.400      0.161   -2374.117    1.43e+04\n",
       "pow                       2999.0512     26.167    114.613      0.000    2947.764    3050.338\n",
       "C(quarter)[T.2017Q1]:pow   140.1319     42.391      3.306      0.001      57.045     223.219\n",
       "C(quarter)[T.2017Q2]:pow  -229.6394     45.950     -4.998      0.000    -319.702    -139.577\n",
       "C(quarter)[T.2017Q3]:pow  -122.5007     52.071     -2.353      0.019    -224.560     -20.441\n",
       "C(quarter)[T.2017Q4]:pow    -7.6041     50.029     -0.152      0.879    -105.661      90.453\n",
       "C(quarter)[T.2018Q1]:pow   113.3219     56.056      2.022      0.043       3.452     223.192\n",
       "C(quarter)[T.2018Q2]:pow   481.7433     62.716      7.681      0.000     358.820     604.667\n",
       "floor                    -2091.4323    172.887    -12.097      0.000   -2430.293   -1752.571\n",
       "rooms                     1.279e+04    634.394     20.167      0.000    1.16e+04     1.4e+04\n",
       "data_lat                  8184.5918    875.291      9.351      0.000    6469.007    9900.176\n",
       "data_lon                   4.32e+04   5822.178      7.419      0.000    3.18e+04    5.46e+04\n",
       "data_lat:data_lon        -1411.4768    159.469     -8.851      0.000   -1724.039   -1098.915\n",
       "desc_len                     7.5511      0.461     16.390      0.000       6.648       8.454\n",
       "==============================================================================\n",
       "Omnibus:                    40046.137   Durbin-Watson:                   1.867\n",
       "Prob(Omnibus):                  0.000   Jarque-Bera (JB):          8683522.715\n",
       "Skew:                           3.646   Prob(JB):                         0.00\n",
       "Kurtosis:                      70.924   Cond. No.                     2.50e+04\n",
       "==============================================================================\n",
       "\n",
       "Warnings:\n",
       "[1] Standard Errors assume that the covariance matrix of the errors is correctly specified.\n",
       "[2] The condition number is large, 2.5e+04. This might indicate that there are\n",
       "strong multicollinearity or other numerical problems.\n",
       "\"\"\""
      ]
     },
     "execution_count": 24,
     "metadata": {},
     "output_type": "execute_result"
    }
   ],
   "source": [
    "data['quarter'] = data['date'].dt.year.apply(str) + \\\n",
    "    \"Q\" + data['date'].dt.quarter.apply(str)\n",
    "\n",
    "formula = \"price ~ C(quarter) * pow + floor + rooms + data_lat + data_lon + data_lat * data_lon + desc_len + C(quarter)\"\n",
    "m1 = sm.OLS.from_formula(formula, data=data[sample]).fit()\n",
    "m1.summary()"
   ]
  },
  {
   "cell_type": "markdown",
   "metadata": {},
   "source": [
    "Here we can observe that the price per m$^2$ dependency is increasing in the last two quarters when compared to 2016Q4.\n",
    "\n",
    "Being curious we also want to see how does the time that an advertisement spends online depend on our independent variables."
   ]
  },
  {
   "cell_type": "code",
   "execution_count": 31,
   "metadata": {},
   "outputs": [
    {
     "data": {
      "text/html": [
       "<table class=\"simpletable\">\n",
       "<caption>OLS Regression Results</caption>\n",
       "<tr>\n",
       "  <th>Dep. Variable:</th>          <td>life</td>       <th>  R-squared:         </th>  <td>   0.023</td>  \n",
       "</tr>\n",
       "<tr>\n",
       "  <th>Model:</th>                   <td>OLS</td>       <th>  Adj. R-squared:    </th>  <td>   0.023</td>  \n",
       "</tr>\n",
       "<tr>\n",
       "  <th>Method:</th>             <td>Least Squares</td>  <th>  F-statistic:       </th>  <td>   132.2</td>  \n",
       "</tr>\n",
       "<tr>\n",
       "  <th>Date:</th>             <td>Sun, 22 Jul 2018</td> <th>  Prob (F-statistic):</th>  <td>2.12e-220</td> \n",
       "</tr>\n",
       "<tr>\n",
       "  <th>Time:</th>                 <td>19:45:41</td>     <th>  Log-Likelihood:    </th> <td>-2.6222e+05</td>\n",
       "</tr>\n",
       "<tr>\n",
       "  <th>No. Observations:</th>      <td> 44656</td>      <th>  AIC:               </th>  <td>5.245e+05</td> \n",
       "</tr>\n",
       "<tr>\n",
       "  <th>Df Residuals:</th>          <td> 44647</td>      <th>  BIC:               </th>  <td>5.245e+05</td> \n",
       "</tr>\n",
       "<tr>\n",
       "  <th>Df Model:</th>              <td>     8</td>      <th>                     </th>      <td> </td>     \n",
       "</tr>\n",
       "<tr>\n",
       "  <th>Covariance Type:</th>      <td>nonrobust</td>    <th>                     </th>      <td> </td>     \n",
       "</tr>\n",
       "</table>\n",
       "<table class=\"simpletable\">\n",
       "<tr>\n",
       "          <td></td>             <th>coef</th>     <th>std err</th>      <th>t</th>      <th>P>|t|</th>  <th>[0.025</th>    <th>0.975]</th>  \n",
       "</tr>\n",
       "<tr>\n",
       "  <th>Intercept</th>         <td>    5.4724</td> <td>    5.184</td> <td>    1.056</td> <td> 0.291</td> <td>   -4.689</td> <td>   15.633</td>\n",
       "</tr>\n",
       "<tr>\n",
       "  <th>price_k</th>           <td>    0.0258</td> <td>    0.005</td> <td>    4.940</td> <td> 0.000</td> <td>    0.016</td> <td>    0.036</td>\n",
       "</tr>\n",
       "<tr>\n",
       "  <th>pow</th>               <td>    0.4589</td> <td>    0.030</td> <td>   15.539</td> <td> 0.000</td> <td>    0.401</td> <td>    0.517</td>\n",
       "</tr>\n",
       "<tr>\n",
       "  <th>floor</th>             <td>   -0.2134</td> <td>    0.193</td> <td>   -1.104</td> <td> 0.270</td> <td>   -0.592</td> <td>    0.165</td>\n",
       "</tr>\n",
       "<tr>\n",
       "  <th>rooms</th>             <td>   -3.5480</td> <td>    0.708</td> <td>   -5.010</td> <td> 0.000</td> <td>   -4.936</td> <td>   -2.160</td>\n",
       "</tr>\n",
       "<tr>\n",
       "  <th>data_lat</th>          <td>   -1.6609</td> <td>    0.979</td> <td>   -1.697</td> <td> 0.090</td> <td>   -3.579</td> <td>    0.257</td>\n",
       "</tr>\n",
       "<tr>\n",
       "  <th>data_lon</th>          <td>  -12.2019</td> <td>    6.507</td> <td>   -1.875</td> <td> 0.061</td> <td>  -24.955</td> <td>    0.551</td>\n",
       "</tr>\n",
       "<tr>\n",
       "  <th>data_lat:data_lon</th> <td>    0.3760</td> <td>    0.178</td> <td>    2.109</td> <td> 0.035</td> <td>    0.027</td> <td>    0.725</td>\n",
       "</tr>\n",
       "<tr>\n",
       "  <th>desc_len</th>          <td>    0.0042</td> <td>    0.000</td> <td>    8.820</td> <td> 0.000</td> <td>    0.003</td> <td>    0.005</td>\n",
       "</tr>\n",
       "</table>\n",
       "<table class=\"simpletable\">\n",
       "<tr>\n",
       "  <th>Omnibus:</th>       <td>22103.063</td> <th>  Durbin-Watson:     </th>  <td>   1.286</td> \n",
       "</tr>\n",
       "<tr>\n",
       "  <th>Prob(Omnibus):</th>  <td> 0.000</td>   <th>  Jarque-Bera (JB):  </th> <td>128072.547</td>\n",
       "</tr>\n",
       "<tr>\n",
       "  <th>Skew:</th>           <td> 2.391</td>   <th>  Prob(JB):          </th>  <td>    0.00</td> \n",
       "</tr>\n",
       "<tr>\n",
       "  <th>Kurtosis:</th>       <td> 9.780</td>   <th>  Cond. No.          </th>  <td>2.54e+04</td> \n",
       "</tr>\n",
       "</table><br/><br/>Warnings:<br/>[1] Standard Errors assume that the covariance matrix of the errors is correctly specified.<br/>[2] The condition number is large, 2.54e+04. This might indicate that there are<br/>strong multicollinearity or other numerical problems."
      ],
      "text/plain": [
       "<class 'statsmodels.iolib.summary.Summary'>\n",
       "\"\"\"\n",
       "                            OLS Regression Results                            \n",
       "==============================================================================\n",
       "Dep. Variable:                   life   R-squared:                       0.023\n",
       "Model:                            OLS   Adj. R-squared:                  0.023\n",
       "Method:                 Least Squares   F-statistic:                     132.2\n",
       "Date:                Sun, 22 Jul 2018   Prob (F-statistic):          2.12e-220\n",
       "Time:                        19:45:41   Log-Likelihood:            -2.6222e+05\n",
       "No. Observations:               44656   AIC:                         5.245e+05\n",
       "Df Residuals:                   44647   BIC:                         5.245e+05\n",
       "Df Model:                           8                                         \n",
       "Covariance Type:            nonrobust                                         \n",
       "=====================================================================================\n",
       "                        coef    std err          t      P>|t|      [0.025      0.975]\n",
       "-------------------------------------------------------------------------------------\n",
       "Intercept             5.4724      5.184      1.056      0.291      -4.689      15.633\n",
       "price_k               0.0258      0.005      4.940      0.000       0.016       0.036\n",
       "pow                   0.4589      0.030     15.539      0.000       0.401       0.517\n",
       "floor                -0.2134      0.193     -1.104      0.270      -0.592       0.165\n",
       "rooms                -3.5480      0.708     -5.010      0.000      -4.936      -2.160\n",
       "data_lat             -1.6609      0.979     -1.697      0.090      -3.579       0.257\n",
       "data_lon            -12.2019      6.507     -1.875      0.061     -24.955       0.551\n",
       "data_lat:data_lon     0.3760      0.178      2.109      0.035       0.027       0.725\n",
       "desc_len              0.0042      0.000      8.820      0.000       0.003       0.005\n",
       "==============================================================================\n",
       "Omnibus:                    22103.063   Durbin-Watson:                   1.286\n",
       "Prob(Omnibus):                  0.000   Jarque-Bera (JB):           128072.547\n",
       "Skew:                           2.391   Prob(JB):                         0.00\n",
       "Kurtosis:                       9.780   Cond. No.                     2.54e+04\n",
       "==============================================================================\n",
       "\n",
       "Warnings:\n",
       "[1] Standard Errors assume that the covariance matrix of the errors is correctly specified.\n",
       "[2] The condition number is large, 2.54e+04. This might indicate that there are\n",
       "strong multicollinearity or other numerical problems.\n",
       "\"\"\""
      ]
     },
     "execution_count": 31,
     "metadata": {},
     "output_type": "execute_result"
    }
   ],
   "source": [
    "life = gr_dur.reset_index()\n",
    "life = life.rename(columns={'date':'life'})\n",
    "life['life'] = life['life'].dt.days\n",
    "\n",
    "data = data.merge(life, how='left', left_on='group', right_on='group')\n",
    "\n",
    "data['price_k'] = data['price'] / 1e3\n",
    "\n",
    "sample = ~data.duplicated(duplicate_verify, keep='first')\n",
    "formula = \"life ~ price_k + pow + floor + rooms + data_lat + data_lon + data_lat * data_lon + desc_len\"\n",
    "m1 = sm.OLS.from_formula(formula, data=data[sample]).fit()\n",
    "m1.summary()"
   ]
  },
  {
   "cell_type": "markdown",
   "metadata": {},
   "source": [
    "Quick look on the coefficients sugests that the bigger the house and the more expensive it is the longer it stayed on the website. Also the more rooms a house had the quicker it had gone. The effect of geographical position is big, but not significantly different from 0.\n",
    "\n",
    "Also the longer the description, the longer an ad stayed on the website.\n",
    "\n",
    "The R$^2$ of this model is really low indicating that most of what we record is noise and this model does not explain this dependance in a good way. "
   ]
  },
  {
   "cell_type": "code",
   "execution_count": null,
   "metadata": {},
   "outputs": [],
   "source": []
  }
 ],
 "metadata": {
  "kernelspec": {
   "display_name": "Python 3 (Spyder)",
   "language": "python3",
   "name": "python3"
  },
  "language_info": {
   "codemirror_mode": {
    "name": "ipython",
    "version": 3
   },
   "file_extension": ".py",
   "mimetype": "text/x-python",
   "name": "python",
   "nbconvert_exporter": "python",
   "pygments_lexer": "ipython3",
   "version": "3.6.6"
  }
 },
 "nbformat": 4,
 "nbformat_minor": 2
}
